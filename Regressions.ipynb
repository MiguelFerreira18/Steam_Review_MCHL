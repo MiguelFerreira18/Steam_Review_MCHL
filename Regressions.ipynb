{
 "cells": [
  {
   "cell_type": "code",
   "execution_count": 1,
   "metadata": {},
   "outputs": [],
   "source": [
    "from sklearn.model_selection import train_test_split\n",
    "from sklearn.metrics import classification_report\n",
    "from sklearn.neighbors import KNeighborsClassifier\n",
    "from sklearn.preprocessing import StandardScaler\n",
    "import matplotlib.pyplot as plt\n",
    "import Regression\n",
    "import pandas as pd\n",
    "import numpy as np\n",
    "import matplotlib.pyplot as plt\n",
    "import seaborn as sns\n",
    "import SteamVariables as sv\n",
    "from importlib import reload\n",
    "\n",
    "reload(Regression)\n",
    "\n",
    "dt = pd.read_csv(sv.CSV_PATH, nrows=20000) # nrows=2000000\n",
    "pd.set_option('display.max_columns', None)\n",
    "\n",
    "# Eliminar colunas desnecessarias\n",
    "dt.drop([\"Unnamed: 0\"], axis=1, inplace=True)\n",
    "dt.drop([sv.STEAM_PURCHASE], axis=1, inplace=True)\n",
    "dt.drop([sv.WRITTEN_DURING_EARLY_ACCESS], axis=1, inplace=True)\n",
    "dt.drop([sv.APP_NAME], axis=1, inplace=True)\n",
    "dt.drop([sv.REVIEW], axis=1, inplace=True)\n",
    "dt.drop([sv.TIMESTAMP_UPDATED], axis=1, inplace=True)\n",
    "dt.drop([sv.TIMESTAMP_CREATED], axis=1, inplace=True)\n",
    "dt.drop([sv.LANGUAGE], axis=1, inplace=True)\n",
    "\n",
    "# Resetar index\n",
    "dt.reset_index(drop=True, inplace=True)\n",
    "\n",
    "# Eliminar linhas com valores nulos\n",
    "dt[sv.AUTHOR_NUM_GAMES_OWNED].fillna(dt[sv.AUTHOR_NUM_GAMES_OWNED].mean(), inplace=True)\n",
    "dt[sv.AUTHOR_NUM_REVIEWS].fillna(dt[sv.AUTHOR_NUM_REVIEWS].mean(), inplace=True)\n",
    "dt[sv.AUTHOR_PLAYTIME_FOREVER].fillna(dt[sv.AUTHOR_PLAYTIME_FOREVER].mean(), inplace=True)\n",
    "dt[sv.AUTHOR_PLAYTIME_LAST_TWO_WEEKS].fillna(dt[sv.AUTHOR_PLAYTIME_LAST_TWO_WEEKS].mean(), inplace=True)\n",
    "dt[sv.AUTHOR_LAST_PLAYED].fillna(dt[sv.AUTHOR_LAST_PLAYED].mean(), inplace=True)\n",
    "\n",
    "# Transformar valores booleanos em inteiros\n",
    "dt[sv.RECOMMENDED] = dt[sv.RECOMMENDED].map({True: 1, False: 0})\n",
    "\n",
    "\n",
    "dtTraining = dt.drop(sv.AUTHOR_NUM_GAMES_OWNED, axis=1)\n",
    "dtTest = dt[sv.AUTHOR_NUM_GAMES_OWNED]\n",
    "\n",
    "X_train, X_test, Y_train, Y_test = train_test_split(dtTraining, dtTest, test_size=0.3, random_state=5)"
   ]
  },
  {
   "cell_type": "code",
   "execution_count": 2,
   "metadata": {},
   "outputs": [],
   "source": [
    "myRegression = Regression.Regression()"
   ]
  },
  {
   "cell_type": "code",
   "execution_count": 3,
   "metadata": {},
   "outputs": [
    {
     "name": "stdout",
     "output_type": "stream",
     "text": [
      "Best parameters are:  {'linearRegression__fit_intercept': True}\n",
      "Best score is:  0.046786471507594005\n",
      "Linear Regression value:  0.2400993956457682\n"
     ]
    }
   ],
   "source": [
    "myRegression.linearRegression(X_train,Y_train,X_test,Y_test)"
   ]
  },
  {
   "cell_type": "code",
   "execution_count": 4,
   "metadata": {},
   "outputs": [
    {
     "name": "stdout",
     "output_type": "stream",
     "text": [
      "Best parameters are:  {'ridgeRegressionCV__alphas': 9.1}\n",
      "Best score is:  0.047024972964531384\n",
      "Ridge Regression Score:  -5220420756921.943\n",
      "Alpha:0.10\n"
     ]
    }
   ],
   "source": [
    "myRegression.ridgeRegressionCV(X_train,Y_train,X_test,Y_test)"
   ]
  },
  {
   "cell_type": "code",
   "execution_count": 5,
   "metadata": {},
   "outputs": [
    {
     "name": "stdout",
     "output_type": "stream",
     "text": [
      "Best parameters are:  {'ridgeRegression__alpha': 100}\n",
      "Best score is:  0.04940676716153743\n",
      "Ridge Regression value:  0.24011822373064107\n"
     ]
    },
    {
     "name": "stderr",
     "output_type": "stream",
     "text": [
      "C:\\Users\\rodri\\AppData\\Local\\Packages\\PythonSoftwareFoundation.Python.3.10_qbz5n2kfra8p0\\LocalCache\\local-packages\\Python310\\site-packages\\sklearn\\linear_model\\_ridge.py:216: LinAlgWarning: Ill-conditioned matrix (rcond=4.73591e-22): result may not be accurate.\n",
      "  return linalg.solve(A, Xy, assume_a=\"pos\", overwrite_a=True).T\n"
     ]
    }
   ],
   "source": [
    "myRegression.ridgeRegression(X_train,Y_train,X_test,Y_test)"
   ]
  },
  {
   "cell_type": "code",
   "execution_count": 6,
   "metadata": {},
   "outputs": [
    {
     "name": "stdout",
     "output_type": "stream",
     "text": [
      "Best parameters are:  {'lassoRegression__alpha': 10}\n",
      "Best score is:  0.08539706282480848\n",
      "Lasso Regression value:  0.24115838815247315\n"
     ]
    }
   ],
   "source": [
    "myRegression.lassoRegression(X_train,Y_train,X_test,Y_test)"
   ]
  },
  {
   "cell_type": "code",
   "execution_count": 7,
   "metadata": {},
   "outputs": [],
   "source": [
    "#myRegression.svmRegression(X_train,Y_train,X_test,Y_test)"
   ]
  },
  {
   "cell_type": "code",
   "execution_count": 8,
   "metadata": {},
   "outputs": [
    {
     "name": "stdout",
     "output_type": "stream",
     "text": [
      "Best parameters are: {'knnRegression__n_neighbors': 19, 'knnRegression__weights': 'distance'}\n",
      "Best score is: 0.1770177760719128\n",
      "KNN Regression value: -0.13448954672925129\n"
     ]
    }
   ],
   "source": [
    "myRegression.knnRegression(X_train,Y_train,X_test,Y_test)"
   ]
  },
  {
   "cell_type": "code",
   "execution_count": 9,
   "metadata": {},
   "outputs": [
    {
     "name": "stdout",
     "output_type": "stream",
     "text": [
      "Best parameters are: {'decisionTreeRegression__max_depth': 10}\n",
      "Best score is: 0.1056808599348987\n",
      "R2 score: 0.10102845022771634\n",
      "MAE score: 41.289574822606625\n"
     ]
    }
   ],
   "source": [
    "myRegression.decisionTreeRegression(X_train,Y_train,X_test,Y_test)"
   ]
  }
 ],
 "metadata": {
  "kernelspec": {
   "display_name": "Python 3",
   "language": "python",
   "name": "python3"
  },
  "language_info": {
   "codemirror_mode": {
    "name": "ipython",
    "version": 3
   },
   "file_extension": ".py",
   "mimetype": "text/x-python",
   "name": "python",
   "nbconvert_exporter": "python",
   "pygments_lexer": "ipython3",
   "version": "3.10.11"
  },
  "orig_nbformat": 4
 },
 "nbformat": 4,
 "nbformat_minor": 2
}
