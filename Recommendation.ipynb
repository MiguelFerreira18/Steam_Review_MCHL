{
 "cells": [
  {
   "cell_type": "code",
   "execution_count": 12,
   "metadata": {},
   "outputs": [
    {
     "name": "stdout",
     "output_type": "stream",
     "text": [
      "            author.steamid                  app_name  weighted_vote_score\n",
      "0        76561199095369542  The Witcher 3: Wild Hunt             0.000000\n",
      "1        76561198949504115  The Witcher 3: Wild Hunt             0.000000\n",
      "2        76561199090098988  The Witcher 3: Wild Hunt             0.000000\n",
      "3        76561199054755373  The Witcher 3: Wild Hunt             0.000000\n",
      "4        76561199028326951  The Witcher 3: Wild Hunt             0.000000\n",
      "...                    ...                       ...                  ...\n",
      "3999995  76561198055387404     Insurgency: Sandstorm             0.000000\n",
      "3999996  76561198420472727     Insurgency: Sandstorm             0.000000\n",
      "3999997  76561198188219363     Insurgency: Sandstorm             0.665501\n",
      "3999998  76561198408699867     Insurgency: Sandstorm             0.000000\n",
      "3999999  76561198055317027     Insurgency: Sandstorm             0.493225\n",
      "\n",
      "[3987414 rows x 3 columns]\n"
     ]
    }
   ],
   "source": [
    "import pandas as pd\n",
    "import numpy as np\n",
    "from sklearn.preprocessing import StandardScaler\n",
    "from sklearn.metrics.pairwise import euclidean_distances\n",
    "from sklearn.metrics.pairwise import cosine_similarity\n",
    "from sklearn.neighbors import NearestNeighbors\n",
    "from sklearn.decomposition import PCA\n",
    "import SteamVariables as sv\n",
    "\n",
    "scaler = StandardScaler()\n",
    "df = pd.read_csv(sv.CSV_PATH, nrows=4000000)\n",
    "df = df.dropna()\n",
    "\n",
    "#print(df.groupby('app_name').first().reset_index())\n",
    "\n",
    "\n",
    "feature_columnsNew= [sv.AUTHOR_STEAMID,sv.APP_NAME,sv.WEIGHTED_VOTE_SCORE]\n",
    "\n",
    "new_dt = df[feature_columnsNew]\n",
    "print(new_dt)"
   ]
  },
  {
   "cell_type": "code",
   "execution_count": 13,
   "metadata": {},
   "outputs": [
    {
     "name": "stdout",
     "output_type": "stream",
     "text": [
      "<surprise.dataset.DatasetAutoFolds object at 0x7f36adfb9d80>\n",
      "RMSE: 0.2387\n"
     ]
    }
   ],
   "source": [
    "from surprise import KNNBasic\n",
    "from surprise import Dataset\n",
    "from surprise import accuracy\n",
    "from surprise import SVD\n",
    "from surprise import Reader\n",
    "from surprise.model_selection import train_test_split, cross_validate\n",
    "reader = Reader(rating_scale=(0, 1))\n",
    "data= Dataset.load_from_df(new_dt,reader=reader)\n",
    "trainSet, testSet = train_test_split(data,test_size=0.2,random_state=60)\n",
    "algo = SVD()\n",
    "print(data)\n",
    "algo.fit(trainSet)\n",
    "predictions = algo.test(testSet)\n",
    "accuracy.rmse(predictions)\n",
    "cross_validate(algo,data,measures=['RMSE','MAE'],cv = 5, verbose=True)\n"
   ]
  },
  {
   "cell_type": "code",
   "execution_count": null,
   "metadata": {},
   "outputs": [
    {
     "name": "stdout",
     "output_type": "stream",
     "text": [
      "user: 10         item: 1          r_ui = None   est = 0.14   {'was_impossible': False}\n"
     ]
    }
   ],
   "source": [
    "pred = algo.predict(uid=10,iid=1)\n",
    "print(pred)"
   ]
  },
  {
   "cell_type": "code",
   "execution_count": null,
   "metadata": {},
   "outputs": [],
   "source": [
    "import difflib\n",
    "import random\n",
    "\n",
    "\n",
    "\n",
    "def get_game_id(book_title, metadata):\n",
    "    \n",
    "    \"\"\"\n",
    "    Gets the game ID for a game title based on the closest match in the metadata dataframe.\n",
    "    \"\"\"\n",
    "    \n",
    "    existing_titles = list(metadata[sv.APP_NAME].values)\n",
    "    closest_titles = difflib.get_close_matches(book_title, existing_titles)\n",
    "    book_id = metadata[metadata[sv.APP_NAME] == closest_titles[0]][sv.APP_ID].values[0]\n",
    "    return book_id\n",
    "\n",
    "def get_game_info(book_id, metadata):\n",
    "    \n",
    "    \"\"\"\n",
    "    Returns some basic information about a book given the book id and the metadata dataframe.\n",
    "    \"\"\"\n",
    "    \n",
    "    book_info = metadata[metadata[sv.APP_ID] == book_id][[sv.APP_ID, sv.APP_NAME]]\n",
    "    return book_info.to_dict(orient='records')\n",
    "\n",
    "def predict_review(user_id, book_title, model, metadata):\n",
    "    \n",
    "    \"\"\"\n",
    "    Predicts the review (on a scale of 1-5) that a user would assign to a specific book. \n",
    "    \"\"\"\n",
    "    \n",
    "    book_id = get_game_id(book_title, metadata)\n",
    "    review_prediction = model.predict(uid=user_id, iid=book_id)\n",
    "    return review_prediction.est\n",
    "\n",
    "def generate_recommendation(user_id, model, metadata, thresh=4):\n",
    "    \n",
    "    \"\"\"\n",
    "    Generates a book recommendation for a user based on a rating threshold. Only\n",
    "    books with a predicted rating at or above the threshold will be recommended\n",
    "    \"\"\"\n",
    "    \n",
    "    lista_app = list(df['app_name'].unique())\n",
    "    random.shuffle(lista_app)\n",
    "    \n",
    "    for book_title in lista_app:\n",
    "        rating = predict_review(user_id, book_title, model, metadata)\n",
    "        if rating >= thresh:\n",
    "            book_id = get_game_id(book_title, metadata)\n",
    "            return get_game_info(book_id, metadata)"
   ]
  },
  {
   "cell_type": "code",
   "execution_count": null,
   "metadata": {},
   "outputs": [
    {
     "name": "stdout",
     "output_type": "stream",
     "text": [
      "None\n"
     ]
    }
   ],
   "source": [
    "\n",
    "print(generate_recommendation(10,algo,df))"
   ]
  }
 ],
 "metadata": {
  "kernelspec": {
   "display_name": "base",
   "language": "python",
   "name": "python3"
  },
  "language_info": {
   "codemirror_mode": {
    "name": "ipython",
    "version": 3
   },
   "file_extension": ".py",
   "mimetype": "text/x-python",
   "name": "python",
   "nbconvert_exporter": "python",
   "pygments_lexer": "ipython3",
   "version": "3.10.9"
  },
  "orig_nbformat": 4
 },
 "nbformat": 4,
 "nbformat_minor": 2
}
