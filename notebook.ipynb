{
 "cells": [
  {
   "cell_type": "code",
   "execution_count": 20,
   "metadata": {},
   "outputs": [
    {
     "name": "stderr",
     "output_type": "stream",
     "text": [
      "C:\\Users\\Miguel\\AppData\\Local\\Packages\\PythonSoftwareFoundation.Python.3.9_qbz5n2kfra8p0\\LocalCache\\local-packages\\Python39\\site-packages\\pandas\\core\\frame.py:4906: SettingWithCopyWarning: \n",
      "A value is trying to be set on a copy of a slice from a DataFrame\n",
      "\n",
      "See the caveats in the documentation: https://pandas.pydata.org/pandas-docs/stable/user_guide/indexing.html#returning-a-view-versus-a-copy\n",
      "  return super().drop(\n"
     ]
    },
    {
     "name": "stdout",
     "output_type": "stream",
     "text": [
      "        app_id                  app_name  review_id language  \\\n",
      "0       292030  The Witcher 3: Wild Hunt   85184605  english   \n",
      "1       292030  The Witcher 3: Wild Hunt   85184171  english   \n",
      "2       292030  The Witcher 3: Wild Hunt   85184064  english   \n",
      "3       292030  The Witcher 3: Wild Hunt   85182785  spanish   \n",
      "4       292030  The Witcher 3: Wild Hunt   85180436  english   \n",
      "...        ...                       ...        ...      ...   \n",
      "503425     620                  Portal 2   85034695  english   \n",
      "503426     620                  Portal 2   85034294  english   \n",
      "503427     620                  Portal 2   85034229  english   \n",
      "503428     620                  Portal 2   85033255  english   \n",
      "503429     620                  Portal 2   85033017  english   \n",
      "\n",
      "                                                   review  timestamp_created  \\\n",
      "0       One of the best RPG's of all time, worthy of a...         1611379970   \n",
      "1                  good story, good graphics. lots to do.         1611379264   \n",
      "2                                                dis gud,         1611379091   \n",
      "3                                              great game         1611377005   \n",
      "4       favorite game of all time cant wait for the Ne...         1611373086   \n",
      "...                                                   ...                ...   \n",
      "503425  This game saved my life.\\n\\nI am 27.\\n\\nMy ex-...         1611152154   \n",
      "503426  i got stuck on levle 15 on portal 1 but geez i...         1611151655   \n",
      "503427                                abselutley hilarius         1611151580   \n",
      "503428             Didnt expect it to be as good as it is         1611150250   \n",
      "503429  Good game, unique playstyle\\nim really enjoyin...         1611149934   \n",
      "\n",
      "        timestamp_updated  recommended  votes_helpful  votes_funny  \\\n",
      "0              1611379970         True              0            0   \n",
      "1              1611379264         True              0            0   \n",
      "2              1611379091         True              0            0   \n",
      "3              1611377005         True              0            0   \n",
      "4              1611373086         True              0            0   \n",
      "...                   ...          ...            ...          ...   \n",
      "503425         1611152154         True              0            0   \n",
      "503426         1611151655         True              0            0   \n",
      "503427         1611151580         True              0            0   \n",
      "503428         1611150250         True              0            0   \n",
      "503429         1611149934         True              0            0   \n",
      "\n",
      "        weighted_vote_score  comment_count  received_for_free  \\\n",
      "0                       0.0              0              False   \n",
      "1                       0.0              0              False   \n",
      "2                       0.0              0              False   \n",
      "3                       0.0              0              False   \n",
      "4                       0.0              0              False   \n",
      "...                     ...            ...                ...   \n",
      "503425                  0.0              0              False   \n",
      "503426                  0.0              0              False   \n",
      "503427                  0.0              0              False   \n",
      "503428                  0.0              0              False   \n",
      "503429                  0.0              0              False   \n",
      "\n",
      "           author.steamid  author.num_games_owned  author.num_reviews  \\\n",
      "0       76561199054755373                       5                   3   \n",
      "1       76561198170193529                      11                   1   \n",
      "2       76561198119302812                      27                   2   \n",
      "3       76561198301724112                      38                   5   \n",
      "4       76561198065591528                      33                   1   \n",
      "...                   ...                     ...                 ...   \n",
      "503425  76561198149662956                     188                  33   \n",
      "503426  76561199097496463                      14                   4   \n",
      "503427  76561199130522073                       4                   1   \n",
      "503428  76561198408544523                      76                  21   \n",
      "503429  76561199020508684                       7                   5   \n",
      "\n",
      "        author.playtime_forever  author.playtime_last_two_weeks  \\\n",
      "0                        5587.0                          3200.0   \n",
      "1                         823.0                           823.0   \n",
      "2                        4192.0                          3398.0   \n",
      "3                        2399.0                           333.0   \n",
      "4                       23329.0                           177.0   \n",
      "...                         ...                             ...   \n",
      "503425                   1220.0                             0.0   \n",
      "503426                    346.0                           346.0   \n",
      "503427                    358.0                           358.0   \n",
      "503428                    903.0                           903.0   \n",
      "503429                    606.0                           606.0   \n",
      "\n",
      "        author.playtime_at_review  author.last_played  \n",
      "0                          5524.0        1.611384e+09  \n",
      "1                           823.0        1.611379e+09  \n",
      "2                          4192.0        1.611352e+09  \n",
      "3                          2364.0        1.611379e+09  \n",
      "4                         23329.0        1.611219e+09  \n",
      "...                           ...                 ...  \n",
      "503425                     1220.0        1.582631e+09  \n",
      "503426                      346.0        1.611101e+09  \n",
      "503427                      322.0        1.611154e+09  \n",
      "503428                      903.0        1.611150e+09  \n",
      "503429                      208.0        1.611174e+09  \n",
      "\n",
      "[500973 rows x 20 columns]\n"
     ]
    },
    {
     "name": "stderr",
     "output_type": "stream",
     "text": [
      "C:\\Users\\Miguel\\AppData\\Local\\Packages\\PythonSoftwareFoundation.Python.3.9_qbz5n2kfra8p0\\LocalCache\\local-packages\\Python39\\site-packages\\pandas\\util\\_decorators.py:311: SettingWithCopyWarning: \n",
      "A value is trying to be set on a copy of a slice from a DataFrame\n",
      "\n",
      "See the caveats in the documentation: https://pandas.pydata.org/pandas-docs/stable/user_guide/indexing.html#returning-a-view-versus-a-copy\n",
      "  return func(*args, **kwargs)\n"
     ]
    }
   ],
   "source": [
    "import pandas as pd\n",
    "import numpy as np\n",
    "import matplotlib.pyplot as plt\n",
    "import seaborn as sns\n",
    "from sklearn.preprocessing import StandardScaler\n",
    "from sklearn.preprocessing import MinMaxScaler\n",
    "\n",
    "import SteamVariables as sv\n",
    "\n",
    "dt = pd.read_csv(sv.CSV_PATH, nrows=900000) # nrows=2000000\n",
    "pd.set_option('display.max_columns', None)\n",
    "#Dominio: Reviews da Steam\n",
    "#Tamanho: 2000000\n",
    "# --------------------Descricao das colunas--------------------\n",
    "#! app_id - ID do jogo, Discrete\n",
    "#! app_name - Nome do jogo, Nominal\n",
    "#! review_id - ID da review, Discrete\n",
    "#! language - Linguagem da review, Nominal\n",
    "#! review - Texto da review, Nominal\n",
    "#! timestamp_created - Data de criacao da review, Discrete\n",
    "#* timestamp_updated - Data de atualizacao da review, Discrete\n",
    "#* recommended - Recomendado ou nao, Discrete\n",
    "#* votes_helpful - Votos de utilidade, Discrete\n",
    "#* votes_funny - Votos de humor, Discrete\n",
    "#* weighted_vote_score - Ranking baseado no número de helpful votes, Continuous\n",
    "#* comment_count - Numero de comentarios, Discrete\n",
    "#* steam_purchase - Comprado na Steam, Discrete\n",
    "#* received_for_free - Recebido de graça, Discrete\n",
    "#? written_during_early_access - Escrito durante o Early Access, Discrete\n",
    "#? author.steamid - ID do autor, Discrete\n",
    "#? author.num_games_owned - Numero de jogos do autor, Discrete\n",
    "#? author.num_reviews - Numero de reviews do autor, Discrete\n",
    "#? author.playtime_forever - Tempo de jogo total do autor, Continuous\n",
    "#? author.playtime_last_two_weeks - Tempo de jogo nas ultimas duas semanas do autor, Continuous\n",
    "#? author.last_played - Ultima vez que o autor jogou, Discrete\n",
    "# --------------------Descricao das colunas--------------------\n",
    "\n",
    "languages = [\"bulgarian\", \"croatian\", \"danish\", \"czech\", \"slovak\", \"slovenian\", \"slovak\", \"slovenian\", \n",
    "\"spanish\", \"estonian\", \"finnish\", \"french\", \"greek\", \"hungarian\", \"irish\", \"italian\", \n",
    "\"latvian\", \"lithuanian\", \"maltese\", \"dutch\", \"polish\", \"portuguese\", \"romanian\", \"swedish\", \"english\", \"brazilian\"]\n",
    "\n",
    "# Eliminar linhas com linguagem diferente das selecionadas\n",
    "new_dt = dt[dt[sv.LANGUAGE].isin(languages)]\n",
    "\n",
    "# Eliminar colunas desnecessarias\n",
    "new_dt.drop([\"Unnamed: 0\"], axis=1, inplace=True)\n",
    "new_dt.drop([sv.STEAM_PURCHASE], axis=1, inplace=True)\n",
    "new_dt.drop([sv.WRITTEN_DURING_EARLY_ACCESS], axis=1, inplace=True)\n",
    "\n",
    "# Resetar index\n",
    "new_dt.reset_index(drop=True, inplace=True)\n",
    "\n",
    "# Eliminar linhas com valores nulos\n",
    "new_dt.dropna(inplace=True)\n",
    "\n",
    "# Print da descricao da coluna author.num_games_owned do dataset\n",
    "print(new_dt)"
   ]
  },
  {
   "cell_type": "code",
   "execution_count": 21,
   "metadata": {},
   "outputs": [
    {
     "name": "stderr",
     "output_type": "stream",
     "text": [
      "C:\\Users\\Miguel\\AppData\\Local\\Temp/ipykernel_24636/3286473675.py:2: SettingWithCopyWarning: \n",
      "A value is trying to be set on a copy of a slice from a DataFrame.\n",
      "Try using .loc[row_indexer,col_indexer] = value instead\n",
      "\n",
      "See the caveats in the documentation: https://pandas.pydata.org/pandas-docs/stable/user_guide/indexing.html#returning-a-view-versus-a-copy\n",
      "  new_dt[\"review_char_count\"] = new_dt[\"review\"].apply(len)\n"
     ]
    },
    {
     "data": {
      "text/plain": [
       "[Text(0, 0, 'The Witcher 3: Wild Hunt'),\n",
       " Text(1, 0, 'Half-Life'),\n",
       " Text(2, 0, 'Counter-Strike: Source'),\n",
       " Text(3, 0, 'Half-Life 2: Episode Two'),\n",
       " Text(4, 0, 'Portal 2')]"
      ]
     },
     "execution_count": 21,
     "metadata": {},
     "output_type": "execute_result"
    },
    {
     "data": {
      "image/png": "[encoded data removed]",
      "text/plain": [
       "<Figure size 432x288 with 1 Axes>"
      ]
     },
     "metadata": {
      "needs_background": "light"
     },
     "output_type": "display_data"
    }
   ],
   "source": [
    "\n",
    "#!Aplica a função length nas reviews de um dado jogo\n",
    "new_dt[\"review_char_count\"] = new_dt[\"review\"].apply(len)\n",
    "\n",
    "#!Cria um subdataset com um limite de 100 caracteres\n",
    "steam_data_subset = new_dt[new_dt[\"review_char_count\"] <= 100]\n",
    "\n",
    "ax = sns.boxplot(x=\"app_name\", y=\"review_char_count\", data=steam_data_subset)\n",
    "\n",
    "#! Apenas muda as labels no eixo do x para serem mais legiveis\n",
    "ax.set_xticklabels(ax.get_xticklabels(), rotation=45, ha=\"right\", fontsize=8)\n",
    "\n",
    "#! Utililidade disto?\n",
    "#! 0 !#\n"
   ]
  },
  {
   "cell_type": "code",
   "execution_count": 22,
   "metadata": {},
   "outputs": [
    {
     "name": "stderr",
     "output_type": "stream",
     "text": [
      "C:\\Users\\Miguel\\AppData\\Local\\Temp/ipykernel_24636/3071671840.py:2: SettingWithCopyWarning: \n",
      "A value is trying to be set on a copy of a slice from a DataFrame.\n",
      "Try using .loc[row_indexer,col_indexer] = value instead\n",
      "\n",
      "See the caveats in the documentation: https://pandas.pydata.org/pandas-docs/stable/user_guide/indexing.html#returning-a-view-versus-a-copy\n",
      "  new_dt[\"review_char_count\"] = new_dt[\"review\"].apply(len)\n"
     ]
    },
    {
     "data": {
      "text/plain": [
       "<AxesSubplot:xlabel='app_name', ylabel='review_char_count'>"
      ]
     },
     "execution_count": 22,
     "metadata": {},
     "output_type": "execute_result"
    },
    {
     "data": {
      "image/png": "[encoded data removed]",
      "text/plain": [
       "<Figure size 432x288 with 1 Axes>"
      ]
     },
     "metadata": {
      "needs_background": "light"
     },
     "output_type": "display_data"
    }
   ],
   "source": [
    "\n",
    "##!Se não fosse limitado: o numero de caracteres por comentario\n",
    "new_dt[\"review_char_count\"] = new_dt[\"review\"].apply(len)\n",
    "sns.boxplot(x=\"app_name\", y=\"review_char_count\", data=new_dt)"
   ]
  }
 ],
 "metadata": {
  "kernelspec": {
   "display_name": "Python 3",
   "language": "python",
   "name": "python3"
  },
  "language_info": {
   "codemirror_mode": {
    "name": "ipython",
    "version": 3
   },
   "file_extension": ".py",
   "mimetype": "text/x-python",
   "name": "python",
   "nbconvert_exporter": "python",
   "pygments_lexer": "ipython3",
   "version": "3.9.13"
  },
  "orig_nbformat": 4
 },
 "nbformat": 4,
 "nbformat_minor": 2
}
